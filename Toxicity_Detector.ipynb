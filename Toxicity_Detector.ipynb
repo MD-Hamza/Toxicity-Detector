{
  "nbformat": 4,
  "nbformat_minor": 0,
  "metadata": {
    "colab": {
      "provenance": []
    },
    "kernelspec": {
      "name": "python3",
      "display_name": "Python 3"
    },
    "language_info": {
      "name": "python"
    }
  },
  "cells": [
    {
      "cell_type": "markdown",
      "source": [
        "# CSC413 Project: Toxicity Detector"
      ],
      "metadata": {
        "id": "aniQHSFFnplS"
      }
    },
    {
      "cell_type": "code",
      "execution_count": null,
      "metadata": {
        "id": "gDgctKSAnI9C"
      },
      "outputs": [],
      "source": [
        "import matplotlib\n",
        "import numpy as np\n",
        "import matplotlib.pyplot as plt\n",
        "\n",
        "import torch\n",
        "import torch.nn as nn\n",
        "import torch.optim as optim\n",
        "import torchvision.models, torchvision.datasets"
      ]
    },
    {
      "cell_type": "markdown",
      "source": [
        "## Data\n",
        "\n",
        "We will begin by downloading the data onto Google Colab from kaggle. The data is retrieved from https://www.kaggle.com/datasets/fizzbuzz/cleaned-toxic-comments"
      ],
      "metadata": {
        "id": "Goz16hYlqi8p"
      }
    },
    {
      "cell_type": "code",
      "source": [
        "!pip install kaggle"
      ],
      "metadata": {
        "colab": {
          "base_uri": "https://localhost:8080/"
        },
        "id": "EKkuiMaIrJQO",
        "outputId": "60a6cb2c-f1a5-4a18-d4a4-6e47671a6162"
      },
      "execution_count": 1,
      "outputs": [
        {
          "output_type": "stream",
          "name": "stdout",
          "text": [
            "Requirement already satisfied: kaggle in /usr/local/lib/python3.10/dist-packages (1.5.16)\n",
            "Requirement already satisfied: six>=1.10 in /usr/local/lib/python3.10/dist-packages (from kaggle) (1.16.0)\n",
            "Requirement already satisfied: certifi in /usr/local/lib/python3.10/dist-packages (from kaggle) (2023.7.22)\n",
            "Requirement already satisfied: python-dateutil in /usr/local/lib/python3.10/dist-packages (from kaggle) (2.8.2)\n",
            "Requirement already satisfied: requests in /usr/local/lib/python3.10/dist-packages (from kaggle) (2.31.0)\n",
            "Requirement already satisfied: tqdm in /usr/local/lib/python3.10/dist-packages (from kaggle) (4.66.1)\n",
            "Requirement already satisfied: python-slugify in /usr/local/lib/python3.10/dist-packages (from kaggle) (8.0.1)\n",
            "Requirement already satisfied: urllib3 in /usr/local/lib/python3.10/dist-packages (from kaggle) (2.0.7)\n",
            "Requirement already satisfied: bleach in /usr/local/lib/python3.10/dist-packages (from kaggle) (6.1.0)\n",
            "Requirement already satisfied: webencodings in /usr/local/lib/python3.10/dist-packages (from bleach->kaggle) (0.5.1)\n",
            "Requirement already satisfied: text-unidecode>=1.3 in /usr/local/lib/python3.10/dist-packages (from python-slugify->kaggle) (1.3)\n",
            "Requirement already satisfied: charset-normalizer<4,>=2 in /usr/local/lib/python3.10/dist-packages (from requests->kaggle) (3.3.2)\n",
            "Requirement already satisfied: idna<4,>=2.5 in /usr/local/lib/python3.10/dist-packages (from requests->kaggle) (3.4)\n"
          ]
        }
      ]
    },
    {
      "cell_type": "code",
      "source": [
        "from google.colab import files\n",
        "files.upload() # Upload kaggle.json file"
      ],
      "metadata": {
        "id": "IoTi7BX7sMQI"
      },
      "execution_count": null,
      "outputs": []
    },
    {
      "cell_type": "code",
      "source": [
        "! mkdir ~/.kaggle"
      ],
      "metadata": {
        "id": "ud_oQQc7scBv"
      },
      "execution_count": null,
      "outputs": []
    },
    {
      "cell_type": "code",
      "source": [
        "! cp kaggle.json ~/.kaggle/\n",
        "! chmod 600 ~/.kaggle/kaggle.json"
      ],
      "metadata": {
        "id": "vkroDEoFskXr"
      },
      "execution_count": 5,
      "outputs": []
    },
    {
      "cell_type": "code",
      "source": [
        "! kaggle datasets download -d fizzbuzz/cleaned-toxic-comments\n",
        "! unzip cleaned-toxic-comments.zip"
      ],
      "metadata": {
        "colab": {
          "base_uri": "https://localhost:8080/"
        },
        "id": "Qtjy396WrXwQ",
        "outputId": "b105adc8-316b-4dff-9735-571f08dba118"
      },
      "execution_count": 7,
      "outputs": [
        {
          "output_type": "stream",
          "name": "stdout",
          "text": [
            "cleaned-toxic-comments.zip: Skipping, found more recently modified local copy (use --force to force download)\n",
            "Archive:  cleaned-toxic-comments.zip\n",
            "  inflating: test_preprocessed.csv   \n",
            "  inflating: train_preprocessed.csv  \n"
          ]
        }
      ]
    },
    {
      "cell_type": "markdown",
      "source": [
        "## Data Analysis and Processing\n",
        "We will analyze the type and amount of data that we will work with and introduce a validation set."
      ],
      "metadata": {
        "id": "IFervLMcs2c2"
      }
    },
    {
      "cell_type": "code",
      "source": [
        "import pandas as pd\n",
        "df_train = pd.read_csv('/content/train_preprocessed.csv')\n",
        "df_test = pd.read_csv('/content/test_preprocessed.csv')\n",
        "\n",
        "# Randomly split the train set into a 15% validation and 85% train set\n",
        "df_val = df_train.sample(n=int(len(df_train) * 0.15))\n",
        "df_train = df_train.drop(df_val.index)\n",
        "\n",
        "# First few samples in the data set of each toxicity level\n",
        "print(df_train.head())\n",
        "print(df_train[df_train['toxic']==1.0].head())\n",
        "print(df_train[df_train['threat']==1.0].head())\n",
        "print(df_train[df_train['severe_toxic']==1.0].head())"
      ],
      "metadata": {
        "colab": {
          "base_uri": "https://localhost:8080/"
        },
        "id": "gQVAO3qmtqQf",
        "outputId": "aac06b43-13fa-448e-a292-3a1e25aa28c3"
      },
      "execution_count": 20,
      "outputs": [
        {
          "output_type": "stream",
          "name": "stdout",
          "text": [
            "                                        comment_text                id  \\\n",
            "0  explanation why the edits made under my userna...  0000997932d777bf   \n",
            "1  d aww  he matches this background colour i m s...  000103f0d9cfb60f   \n",
            "2  hey man  i m really not trying to edit war  it...  000113f07ec002fd   \n",
            "4  you  sir  are my hero  any chance you remember...  0001d958c54c6e35   \n",
            "5   congratulations from me as well  use the tool...  00025465d4725e87   \n",
            "\n",
            "   identity_hate  insult  obscene    set  severe_toxic  threat  toxic  \\\n",
            "0            0.0     0.0      0.0  train           0.0     0.0    0.0   \n",
            "1            0.0     0.0      0.0  train           0.0     0.0    0.0   \n",
            "2            0.0     0.0      0.0  train           0.0     0.0    0.0   \n",
            "4            0.0     0.0      0.0  train           0.0     0.0    0.0   \n",
            "5            0.0     0.0      0.0  train           0.0     0.0    0.0   \n",
            "\n",
            "   toxicity  \n",
            "0       0.0  \n",
            "1       0.0  \n",
            "2       0.0  \n",
            "4       0.0  \n",
            "5       0.0  \n",
            "                                         comment_text                id  \\\n",
            "6        cock  suck before you piss around on my work  0002bcb3da6cb337   \n",
            "12  hey  what is it talk what is it  an exclusive ...  0005c987bdfc9d4b   \n",
            "16  bye  don t look  come or think of comming back...  0007e25b2121310b   \n",
            "43           fuck your filthy mother in the ass  dry   00190820581d90ce   \n",
            "44  i m sorry i m sorry i screwed around with some...  001956c382006abd   \n",
            "\n",
            "    identity_hate  insult  obscene    set  severe_toxic  threat  toxic  \\\n",
            "6             0.0     1.0      1.0  train           1.0     0.0    1.0   \n",
            "12            0.0     0.0      0.0  train           0.0     0.0    1.0   \n",
            "16            0.0     0.0      0.0  train           0.0     0.0    1.0   \n",
            "43            0.0     1.0      1.0  train           0.0     0.0    1.0   \n",
            "44            0.0     0.0      0.0  train           0.0     0.0    1.0   \n",
            "\n",
            "    toxicity  \n",
            "6        4.0  \n",
            "12       1.0  \n",
            "16       1.0  \n",
            "43       3.0  \n",
            "44       1.0  \n",
            "                                           comment_text                id  \\\n",
            "79    hi  i am back again  last warning  stop undoin...  003217c3eb469ba9   \n",
            "176   i think that your a fagget get a oife and burn...  006b94add72ed61c   \n",
            "600   i m also a sock puppet of this account suprise...  0199d6af27b715f3   \n",
            "802     fuck you  smith  please have me notified whe...  02230885017a50c5   \n",
            "1017  wouldn t be the first time bitch fuck you i ll...  02c6e41e4b317ac3   \n",
            "\n",
            "      identity_hate  insult  obscene    set  severe_toxic  threat  toxic  \\\n",
            "79              0.0     0.0      0.0  train           0.0     1.0    1.0   \n",
            "176             1.0     1.0      1.0  train           0.0     1.0    1.0   \n",
            "600             0.0     0.0      0.0  train           0.0     1.0    1.0   \n",
            "802             0.0     1.0      1.0  train           0.0     1.0    1.0   \n",
            "1017            1.0     1.0      1.0  train           1.0     1.0    1.0   \n",
            "\n",
            "      toxicity  \n",
            "79         2.0  \n",
            "176        5.0  \n",
            "600        2.0  \n",
            "802        4.0  \n",
            "1017       6.0  \n",
            "                                          comment_text                id  \\\n",
            "6         cock  suck before you piss around on my work  0002bcb3da6cb337   \n",
            "55   stupid peace of  shit  stop deleting my stuff ...  0020e7119b96eeeb   \n",
            "181  you are a stupid fuck and your mother s  cunt ...  006e87872c8b370c   \n",
            "579  what a mother  fuck  ing piece of crap those f...  018663f910e0bfe6   \n",
            "746   you know  i was thinking nobody really attack...  020316a0de9e0406   \n",
            "\n",
            "     identity_hate  insult  obscene    set  severe_toxic  threat  toxic  \\\n",
            "6              0.0     1.0      1.0  train           1.0     0.0    1.0   \n",
            "55             0.0     1.0      1.0  train           1.0     0.0    1.0   \n",
            "181            0.0     1.0      1.0  train           1.0     0.0    1.0   \n",
            "579            0.0     1.0      1.0  train           1.0     0.0    1.0   \n",
            "746            0.0     0.0      1.0  train           1.0     0.0    1.0   \n",
            "\n",
            "     toxicity  \n",
            "6         4.0  \n",
            "55        4.0  \n",
            "181       4.0  \n",
            "579       4.0  \n",
            "746       3.0  \n"
          ]
        }
      ]
    },
    {
      "cell_type": "code",
      "source": [
        "training_samples = len(df_train)\n",
        "val_samples = len(df_val)\n",
        "testing_samples = len(df_test)\n",
        "print(f'Train samples: {training_samples}')\n",
        "print(f'Validation samples: {val_samples}')\n",
        "print(f'Test samples: {testing_samples}')"
      ],
      "metadata": {
        "colab": {
          "base_uri": "https://localhost:8080/"
        },
        "id": "apPJXTKouukW",
        "outputId": "04c9216c-132e-42a8-ad79-5342ae1bba07"
      },
      "execution_count": 21,
      "outputs": [
        {
          "output_type": "stream",
          "name": "stdout",
          "text": [
            "Train samples: 135636\n",
            "Validation samples: 23935\n",
            "Test samples: 153164\n"
          ]
        }
      ]
    }
  ]
}